{
 "cells": [
  {
   "cell_type": "code",
   "execution_count": 2,
   "metadata": {
    "executionInfo": {
     "elapsed": 13832,
     "status": "ok",
     "timestamp": 1631206508416,
     "user": {
      "displayName": "Maksim STW",
      "photoUrl": "https://lh3.googleusercontent.com/a-/AOh14GhxlsxJPsP-vnUHqOGVOd2IwzlsoHIBvoM27xTB=s64",
      "userId": "15228803154242880172"
     },
     "user_tz": 240
    },
    "id": "4FgovcfCPFZZ"
   },
   "outputs": [],
   "source": [
    "from tqdm import tqdm\n",
    "import pandas as pd\n",
    "import numpy as np"
   ]
  },
  {
   "cell_type": "code",
   "execution_count": 3,
   "metadata": {},
   "outputs": [
    {
     "name": "stdout",
     "output_type": "stream",
     "text": [
      " I'm sorry to hear that. I hope you can find a way to make it work.                                     11\n",
      " I'm sorry to hear that. I hope everything works out for you in the long run.                            8\n",
      " I'm not sure what you mean by that, but I hope you have a great day!                                    7\n",
      " That's a good way to look at it. I'll try to keep that in mind.                                         7\n",
      " I'm not sure what you mean by that, but thank you for the compliment.                                   6\n",
      "                                                                                                        ..\n",
      " I'm sorry to hear that. I hope you didn't have to deal with him too much.                               1\n",
      " I'm sorry to hear that. I hope you are able to get out of there soon.                                   1\n",
      " That's a good way to look at it. I just wish I could forget about it.                                   1\n",
      " I'm sorry to hear that. Do you know why you can't see your glasses?                                     1\n",
      " I don't know what I would do if I was in a situation like that. I'm glad I'm not in that situation.     1\n",
      "Name: sae_gen, Length: 1138, dtype: int64\n"
     ]
    }
   ],
   "source": [
    "df = pd.read_csv('runs/16/bst/cornell_movie_5fts_all_bst.csv')\n",
    "print(pd.value_counts(df['sae_gen']))"
   ]
  },
  {
   "cell_type": "code",
   "execution_count": 4,
   "metadata": {},
   "outputs": [
    {
     "name": "stdout",
     "output_type": "stream",
     "text": [
      "I'm not sure what you mean by that.                                                                                                                                                                                                                                                                                                                                                                                                                                                                                                                                                                                                                                                                                                                                                                                                                                                                                                                                                                                                                                                                                                                                                                                                       86\n",
      "I'm not sure if you're being serious or not.                                                                                                                                                                                                                                                                                                                                                                                                                                                                                                                                                                                                                                                                                                                                                                                                                                                                                                                                                                                                                                                                                                                                                                                              59\n",
      "I'm not sure what you mean.                                                                                                                                                                                                                                                                                                                                                                                                                                                                                                                                                                                                                                                                                                                                                                                                                                                                                                                                                                                                                                                                                                                                                                                                               46\n",
      "I'm not sure what you're trying to say.                                                                                                                                                                                                                                                                                                                                                                                                                                                                                                                                                                                                                                                                                                                                                                                                                                                                                                                                                                                                                                                                                                                                                                                                   29\n",
      ".                                                                                                                                                                                                                                                                                                                                                                                                                                                                                                                                                                                                                                                                                                                                                                                                                                                                                                                                                                                                                                                                                                                                                                                                                                         26\n",
      "                                                                                                                                                                                                                                                                                                                                                                                                                                                                                                                                                                                                                                                                                                                                                                                                                                                                                                                                                                                                                                                                                                                                                                                                                                          ..\n",
      "I'm aint no one of.of.of.com.com.com.com.com.com.com.com.com.com.com.com.com.com.com.com.com.com.com.com.com.com.com.com.com.com.com.com.com.com.com.com.com.com.com.com.com.com.com.com.of.of.of.of.of.of.of.of.of.of.of.of.of.of.of.of.of.of.of.of.of.of.of.of.of.of.of.of.of.of.of.of.of.of.of.of.of.of.of.of.of.of.of.of.of.of.of.of.of.of.of.of.of.of.of.of.of.of.of.of.of.of.of.of.of.of.of.of.of.of.of.of.of.of.of.of.of.of.of.of.of.of.of.of.of.of.of.of.of.of.of.of.of.of.of.of.of.of.of.of.of.of.of.of.of.of.of.of.of.of.of.of.of.of.of.of.of.of.of.of.of.of.of.of.of.of.of.of.of.of.of.of.of.of.of.of.of.of.of.of.of.of.of.of.of.of.of.of.of.of.of.of.of.of.of.of.of.of.of.of.of.of.of.of.of.of.of.of.of.of.of.of.of.of.of.of.of.of.of.of.of.of.of.of.of.of.of.of.of.of.of.of.of.of.of.of.of.of.of.of.of.of.of.of.of.of.of.of.of.of.of.of.of.of.of.of.of.of.of.of.of.of.of.of.of.of.of.of.of.of.of.of.of.of.of.of.of.of.of.of.of.of.of.of.of.of.of.of.of.of.of.of.of.of.of.of.of.of.of.of.of.of.of.of.of.of.of.of.of.of.of.of.of.of.of.of.of.of.of.of.of.of.of.of.of.of.of.of.of.of.of.of.of.of.of.of.of.of.of.of.of.of.of.of.of.of.of.of.of.of.of.of.of.of.of.of.of.of.of.of.of.of.of.of.of.of.of.of.of.of.of.of.of.of.of.     1\n",
      "I'm not sure what                                                                                                                                                                                                                                                                                                                                                                                                                                                                                                                                                                                                                                                                                                                                                                                                                                                                                                                                                                                                                                                                                                                                                                                                                          1\n",
      "I'm not sure what brandy is.                                                                                                                                                                                                                                                                                                                                                                                                                                                                                                                                                                                                                                                                                                                                                                                                                                                                                                                                                                                                                                                                                                                                                                                                               1\n",
      "I'm a little jealous.                                                                                                                                                                                                                                                                                                                                                                                                                                                                                                                                                                                                                                                                                                                                                                                                                                                                                                                                                                                                                                                                                                                                                                                                                      1\n",
      "I'm.S'M'M'M'M'M'M'M'M'M'M'M'M'M'M'M'M'M'M'M'M'M'M'M'M'M'M'M'M'M'M'M'M'M'M'M'M'M'M'M'M'M'M'M'M'M'M'M'M'M'M'M'M'M'M'M'M'M'M'M'M'M'M '                                                                                                                                                                                                                                                                                                                                                                                                                                                                                                                                                                                                                                                                                                                                                                                                                                                                                                                                                                                                                                                                                                        1\n",
      "Name: sae_gen, Length: 1042, dtype: int64\n"
     ]
    }
   ],
   "source": [
    "df = pd.read_csv('runs/16/dialogpt/cornell_movie_5fts_all.csv')\n",
    "print(pd.value_counts(df['sae_gen']))"
   ]
  }
 ],
 "metadata": {
  "accelerator": "GPU",
  "colab": {
   "authorship_tag": "ABX9TyPSTRPFzQtga7AJ8F3E10wW",
   "collapsed_sections": [],
   "name": "GPT-Neo.ipynb",
   "provenance": []
  },
  "interpreter": {
   "hash": "8ef2add580a4fc17ac33dfb1be25c14e53a8e110f2a6549830ae8d2dda65c178"
  },
  "kernelspec": {
   "display_name": "Python 3.9.7 64-bit ('Dialect_Prompts': conda)",
   "name": "python3"
  },
  "language_info": {
   "codemirror_mode": {
    "name": "ipython",
    "version": 3
   },
   "file_extension": ".py",
   "mimetype": "text/x-python",
   "name": "python",
   "nbconvert_exporter": "python",
   "pygments_lexer": "ipython3",
   "version": "3.9.7"
  }
 },
 "nbformat": 4,
 "nbformat_minor": 4
}

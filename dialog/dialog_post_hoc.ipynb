{
 "cells": [
  {
   "cell_type": "code",
   "execution_count": 6,
   "metadata": {
    "executionInfo": {
     "elapsed": 13832,
     "status": "ok",
     "timestamp": 1631206508416,
     "user": {
      "displayName": "Maksim STW",
      "photoUrl": "https://lh3.googleusercontent.com/a-/AOh14GhxlsxJPsP-vnUHqOGVOd2IwzlsoHIBvoM27xTB=s64",
      "userId": "15228803154242880172"
     },
     "user_tz": 240
    },
    "id": "4FgovcfCPFZZ"
   },
   "outputs": [],
   "source": [
    "from tqdm import tqdm\n",
    "\n",
    "import pandas as pd\n",
    "import numpy as np\n",
    "import matplotlib.pyplot as plt\n",
    "import seaborn as sns\n",
    "import re\n",
    "import os\n",
    "import csv"
   ]
  },
  {
   "cell_type": "markdown",
   "metadata": {},
   "source": [
    "## ablation"
   ]
  },
  {
   "cell_type": "code",
   "execution_count": 9,
   "metadata": {},
   "outputs": [
    {
     "data": {
      "text/plain": [
       "0     8479\n",
       "1     8068\n",
       "2     4649\n",
       "3     2434\n",
       "4     1266\n",
       "5      639\n",
       "6      304\n",
       "7      141\n",
       "8       77\n",
       "9       30\n",
       "10      20\n",
       "11      10\n",
       "12       3\n",
       "14       2\n",
       "16       1\n",
       "13       1\n",
       "Name: num_aave_fts, dtype: int64"
      ]
     },
     "execution_count": 9,
     "metadata": {},
     "output_type": "execute_result"
    }
   ],
   "source": [
    "df = pd.read_csv('runs/21/concat/bst/all/cornell_movie_dataset_all_concat.csv')\n",
    "df['num_aave_fts'].value_counts()"
   ]
  },
  {
   "cell_type": "code",
   "execution_count": 3,
   "metadata": {},
   "outputs": [],
   "source": [
    "max_num_fts = 8\n",
    "actual_col_name = ['gt_sent', 'gt_aave_sent', 'gen_sent', 'gen_aave_sent']\n",
    "\n",
    "df = pd.read_csv('runs/21/concat/gpt3/cornell_movie_dataset_all_concat.csv', index_col=0)\n",
    "\n",
    "for i in range(6, max_num_fts + 1):\n",
    "    stats_df = df[df['num_aave_fts'] >= i][actual_col_name].apply(pd.Series.value_counts)\n",
    "    df = df.sort_index()\n",
    "    stats_df.to_csv(f'runs/21/stats/gpt3/cornell_movie/cornell_movie_dataset_all_stats_{i}_fts.csv')"
   ]
  },
  {
   "cell_type": "code",
   "execution_count": 53,
   "metadata": {},
   "outputs": [
    {
     "data": {
      "text/plain": [
       "gt_sent          6681\n",
       "gt_aave_sent     6500\n",
       "gen_sent         5991\n",
       "gen_aave_sent    6172\n",
       "Name: NEGATIVE, dtype: int64"
      ]
     },
     "execution_count": 53,
     "metadata": {},
     "output_type": "execute_result"
    }
   ],
   "source": [
    "df = pd.read_csv(f'runs/21/stats/dialogpt/all/cornell_movie/cornell_movie_dataset_all_stats_{2}_fts.csv', index_col=0)\n",
    "df = df.sort_index()\n",
    "df.iloc[0]"
   ]
  },
  {
   "cell_type": "markdown",
   "metadata": {},
   "source": [
    "## stats and plot"
   ]
  },
  {
   "cell_type": "code",
   "execution_count": 105,
   "metadata": {},
   "outputs": [],
   "source": [
    "file_name = 'cornell_movie_dataset_all_stats_2_fts.csv'\n",
    "buffer = [file_name]\n",
    "df = pd.read_csv('runs/21/stats/gpt3/all/cornell_movie/' + file_name, index_col=0)\n",
    "df = df.sort_index()\n",
    "num_samples = np.sum(df['gt_sent'])\n",
    "df.iloc[0] = df.iloc[0] * -1\n",
    "df.loc['score'] = np.sum(df)\n",
    "\n",
    "sae_change = (df.loc['score']['gen_sent'] - df.loc['score']['gt_sent']) / df.loc['score']['gt_sent']\n",
    "aave_change = (df.loc['score']['gen_aave_sent'] - df.loc['score']['gt_aave_sent']) / df.loc['score']['gt_aave_sent']\n",
    "buffer.append(sae_change)\n",
    "buffer.append(aave_change)"
   ]
  },
  {
   "cell_type": "code",
   "execution_count": 106,
   "metadata": {},
   "outputs": [
    {
     "data": {
      "text/html": [
       "<div>\n",
       "<style scoped>\n",
       "    .dataframe tbody tr th:only-of-type {\n",
       "        vertical-align: middle;\n",
       "    }\n",
       "\n",
       "    .dataframe tbody tr th {\n",
       "        vertical-align: top;\n",
       "    }\n",
       "\n",
       "    .dataframe thead th {\n",
       "        text-align: right;\n",
       "    }\n",
       "</style>\n",
       "<table border=\"1\" class=\"dataframe\">\n",
       "  <thead>\n",
       "    <tr style=\"text-align: right;\">\n",
       "      <th></th>\n",
       "      <th>gt_sent</th>\n",
       "      <th>gt_aave_sent</th>\n",
       "      <th>gen_sent</th>\n",
       "      <th>gen_aave_sent</th>\n",
       "    </tr>\n",
       "  </thead>\n",
       "  <tbody>\n",
       "    <tr>\n",
       "      <th>NEGATIVE</th>\n",
       "      <td>-2197</td>\n",
       "      <td>-2115</td>\n",
       "      <td>-1755</td>\n",
       "      <td>-1697</td>\n",
       "    </tr>\n",
       "    <tr>\n",
       "      <th>POSITIVE</th>\n",
       "      <td>2245</td>\n",
       "      <td>2327</td>\n",
       "      <td>2687</td>\n",
       "      <td>2745</td>\n",
       "    </tr>\n",
       "    <tr>\n",
       "      <th>score</th>\n",
       "      <td>48</td>\n",
       "      <td>212</td>\n",
       "      <td>932</td>\n",
       "      <td>1048</td>\n",
       "    </tr>\n",
       "  </tbody>\n",
       "</table>\n",
       "</div>"
      ],
      "text/plain": [
       "          gt_sent  gt_aave_sent  gen_sent  gen_aave_sent\n",
       "NEGATIVE    -2197         -2115     -1755          -1697\n",
       "POSITIVE     2245          2327      2687           2745\n",
       "score          48           212       932           1048"
      ]
     },
     "execution_count": 106,
     "metadata": {},
     "output_type": "execute_result"
    }
   ],
   "source": [
    "df"
   ]
  },
  {
   "cell_type": "code",
   "execution_count": 107,
   "metadata": {},
   "outputs": [
    {
     "data": {
      "text/plain": [
       "['dailydialog_dataset_all_stats_2_fts.csv',\n",
       " 18.416666666666668,\n",
       " 3.943396226415094]"
      ]
     },
     "execution_count": 107,
     "metadata": {},
     "output_type": "execute_result"
    }
   ],
   "source": [
    "buffer"
   ]
  },
  {
   "cell_type": "code",
   "execution_count": 90,
   "metadata": {},
   "outputs": [],
   "source": [
    "f = open('runs/21/final/gpt3/cornell_movie_all_final.csv', 'w', encoding='utf-8')\n",
    "writer = csv.writer(f)\n",
    "# writer.writerow(['num_fts', 'distilbert_sae_change', 'distilbert_aave_change', 'roberta_base_sae_change', 'roberta_base_aave_change','roberta_large_sae_change', 'roberta_large_aave_change'])\n",
    "writer.writerow(['num_fts', 'sae_change', 'aave_change'])\n",
    "\n",
    "dir_list = os.listdir('runs/21/stats/gpt3/cornell_movie')\n",
    "dir_list.sort()\n",
    "\n",
    "for file_name in dir_list:\n",
    "    buffer = [file_name]\n",
    "    df = pd.read_csv('runs/21/stats/gpt3/cornell_movie/' + file_name, index_col=0)\n",
    "    df = df.sort_index()\n",
    "    num_samples = np.sum(df['gt_sent'])\n",
    "    df.iloc[0] = df.iloc[0] * -1\n",
    "    df.loc['score'] = np.sum(df) / num_samples\n",
    "\n",
    "    sae_change = (df.loc['score']['gen_sent'] - df.loc['score']['gt_sent']) / df.loc['score']['gt_sent']\n",
    "    aave_change = (df.loc['score']['gen_aave_sent'] - df.loc['score']['gt_aave_sent']) / df.loc['score']['gt_aave_sent']\n",
    "    buffer.append(sae_change)\n",
    "    buffer.append(aave_change)\n",
    "    writer.writerow(buffer)\n",
    "    \n",
    "\n",
    "f.close()"
   ]
  },
  {
   "cell_type": "markdown",
   "metadata": {},
   "source": [
    "### dailydialog"
   ]
  },
  {
   "cell_type": "code",
   "execution_count": 92,
   "metadata": {},
   "outputs": [
    {
     "data": {
      "text/plain": [
       "<AxesSubplot:xlabel='num_fts'>"
      ]
     },
     "execution_count": 92,
     "metadata": {},
     "output_type": "execute_result"
    },
    {
     "data": {
      "image/png": "[encoded data removed]",
      "text/plain": [
       "<Figure size 432x288 with 1 Axes>"
      ]
     },
     "metadata": {
      "needs_background": "light"
     },
     "output_type": "display_data"
    },
    {
     "data": {
      "image/png": "[encoded data removed]",
      "text/plain": [
       "<Figure size 432x288 with 1 Axes>"
      ]
     },
     "metadata": {
      "needs_background": "light"
     },
     "output_type": "display_data"
    }
   ],
   "source": [
    "df = pd.read_csv('runs/21/final/dialogpt/all/dailydialog_all_final.csv')\n",
    "df['num_fts'] = [0, 1, 2, 3, 4, 5, 6, 7]\n",
    "df = df.set_index('num_fts', drop=True)\n",
    "df[['sae_change', 'aave_change']].plot.line()\n",
    "\n",
    "df = pd.read_csv('runs/21/final/bst/all/dailydialog_all_final.csv')\n",
    "df['num_fts'] = [0, 1, 2, 3, 4, 5, 6, 7]\n",
    "df = df.set_index('num_fts', drop=True)\n",
    "df[['sae_change', 'aave_change']].plot.line()"
   ]
  },
  {
   "cell_type": "markdown",
   "metadata": {},
   "source": [
    "### cornell movie"
   ]
  },
  {
   "cell_type": "code",
   "execution_count": 93,
   "metadata": {},
   "outputs": [
    {
     "data": {
      "text/plain": [
       "<AxesSubplot:xlabel='num_fts'>"
      ]
     },
     "execution_count": 93,
     "metadata": {},
     "output_type": "execute_result"
    },
    {
     "data": {
      "image/png": "[encoded data removed]",
      "text/plain": [
       "<Figure size 432x288 with 1 Axes>"
      ]
     },
     "metadata": {
      "needs_background": "light"
     },
     "output_type": "display_data"
    },
    {
     "data": {
      "image/png": "[encoded data removed]",
      "text/plain": [
       "<Figure size 432x288 with 1 Axes>"
      ]
     },
     "metadata": {
      "needs_background": "light"
     },
     "output_type": "display_data"
    }
   ],
   "source": [
    "df = pd.read_csv('runs/21/final/dialogpt/all/cornell_movie_all_final.csv')\n",
    "df['num_fts'] = [0, 1, 2, 3, 4, 5, 6, 7]\n",
    "df = df.set_index('num_fts', drop=True)\n",
    "df[['sae_change', 'aave_change']].plot.line()\n",
    "\n",
    "df = pd.read_csv('runs/21/final/bst/all/cornell_movie_all_final.csv')\n",
    "df['num_fts'] = [0, 1, 2, 3, 4, 5, 6, 7]\n",
    "df = df.set_index('num_fts', drop=True)\n",
    "df[['sae_change', 'aave_change']].plot.line()"
   ]
  },
  {
   "cell_type": "markdown",
   "metadata": {},
   "source": [
    "### personachat"
   ]
  },
  {
   "cell_type": "code",
   "execution_count": 94,
   "metadata": {},
   "outputs": [
    {
     "data": {
      "text/plain": [
       "<AxesSubplot:xlabel='num_fts'>"
      ]
     },
     "execution_count": 94,
     "metadata": {},
     "output_type": "execute_result"
    },
    {
     "data": {
      "image/png": "[encoded data removed]",
      "text/plain": [
       "<Figure size 432x288 with 1 Axes>"
      ]
     },
     "metadata": {
      "needs_background": "light"
     },
     "output_type": "display_data"
    },
    {
     "data": {
      "image/png": "[encoded data removed]",
      "text/plain": [
       "<Figure size 432x288 with 1 Axes>"
      ]
     },
     "metadata": {
      "needs_background": "light"
     },
     "output_type": "display_data"
    }
   ],
   "source": [
    "df = pd.read_csv('runs/21/final/dialogpt/all/personachat_all_final.csv')\n",
    "df['num_fts'] = [0, 1, 2, 3, 4, 5, 6, 7]\n",
    "df = df.set_index('num_fts', drop=True)\n",
    "df[['sae_change', 'aave_change']].plot.line()\n",
    "\n",
    "df = pd.read_csv('runs/21/final/bst/all/personachat_all_final.csv')\n",
    "df['num_fts'] = [0, 1, 2, 3, 4, 5, 6, 7]\n",
    "df = df.set_index('num_fts', drop=True)\n",
    "df[['sae_change', 'aave_change']].plot.line()"
   ]
  },
  {
   "cell_type": "markdown",
   "metadata": {},
   "source": [
    "### absolute values"
   ]
  },
  {
   "cell_type": "code",
   "execution_count": 25,
   "metadata": {},
   "outputs": [
    {
     "data": {
      "text/html": [
       "<div>\n",
       "<style scoped>\n",
       "    .dataframe tbody tr th:only-of-type {\n",
       "        vertical-align: middle;\n",
       "    }\n",
       "\n",
       "    .dataframe tbody tr th {\n",
       "        vertical-align: top;\n",
       "    }\n",
       "\n",
       "    .dataframe thead th {\n",
       "        text-align: right;\n",
       "    }\n",
       "</style>\n",
       "<table border=\"1\" class=\"dataframe\">\n",
       "  <thead>\n",
       "    <tr style=\"text-align: right;\">\n",
       "      <th></th>\n",
       "      <th>Unnamed: 0</th>\n",
       "      <th>distilbert_history</th>\n",
       "      <th>distilbert_history_aave</th>\n",
       "      <th>distilbert_sae_gen</th>\n",
       "      <th>distilbert_aave_gen</th>\n",
       "      <th>distilbert_groundtruth</th>\n",
       "      <th>distilbert_groundtruth_aave</th>\n",
       "      <th>roberta_base_history</th>\n",
       "      <th>roberta_base_history_aave</th>\n",
       "      <th>roberta_base_sae_gen</th>\n",
       "      <th>roberta_base_aave_gen</th>\n",
       "      <th>roberta_base_groundtruth</th>\n",
       "      <th>roberta_base_groundtruth_aave</th>\n",
       "      <th>roberta_large_history</th>\n",
       "      <th>roberta_large_history_aave</th>\n",
       "      <th>roberta_large_sae_gen</th>\n",
       "      <th>roberta_large_aave_gen</th>\n",
       "      <th>roberta_large_groundtruth</th>\n",
       "      <th>roberta_large_groundtruth_aave</th>\n",
       "    </tr>\n",
       "  </thead>\n",
       "  <tbody>\n",
       "    <tr>\n",
       "      <th>0</th>\n",
       "      <td></td>\n",
       "      <td>NaN</td>\n",
       "      <td>NaN</td>\n",
       "      <td>NaN</td>\n",
       "      <td>NaN</td>\n",
       "      <td>NaN</td>\n",
       "      <td>NaN</td>\n",
       "      <td>-154.0</td>\n",
       "      <td>-180.0</td>\n",
       "      <td>-125.0</td>\n",
       "      <td>-118.0</td>\n",
       "      <td>-91.0</td>\n",
       "      <td>-92.0</td>\n",
       "      <td>NaN</td>\n",
       "      <td>NaN</td>\n",
       "      <td>NaN</td>\n",
       "      <td>NaN</td>\n",
       "      <td>NaN</td>\n",
       "      <td>NaN</td>\n",
       "    </tr>\n",
       "    <tr>\n",
       "      <th>1</th>\n",
       "      <td></td>\n",
       "      <td>NaN</td>\n",
       "      <td>NaN</td>\n",
       "      <td>NaN</td>\n",
       "      <td>NaN</td>\n",
       "      <td>NaN</td>\n",
       "      <td>NaN</td>\n",
       "      <td>0.0</td>\n",
       "      <td>0.0</td>\n",
       "      <td>0.0</td>\n",
       "      <td>0.0</td>\n",
       "      <td>0.0</td>\n",
       "      <td>0.0</td>\n",
       "      <td>NaN</td>\n",
       "      <td>NaN</td>\n",
       "      <td>NaN</td>\n",
       "      <td>NaN</td>\n",
       "      <td>NaN</td>\n",
       "      <td>NaN</td>\n",
       "    </tr>\n",
       "    <tr>\n",
       "      <th>2</th>\n",
       "      <td>LABEL_2</td>\n",
       "      <td>NaN</td>\n",
       "      <td>NaN</td>\n",
       "      <td>NaN</td>\n",
       "      <td>NaN</td>\n",
       "      <td>NaN</td>\n",
       "      <td>NaN</td>\n",
       "      <td>167.0</td>\n",
       "      <td>169.0</td>\n",
       "      <td>120.0</td>\n",
       "      <td>149.0</td>\n",
       "      <td>136.0</td>\n",
       "      <td>143.0</td>\n",
       "      <td>NaN</td>\n",
       "      <td>NaN</td>\n",
       "      <td>NaN</td>\n",
       "      <td>NaN</td>\n",
       "      <td>NaN</td>\n",
       "      <td>NaN</td>\n",
       "    </tr>\n",
       "    <tr>\n",
       "      <th>3</th>\n",
       "      <td></td>\n",
       "      <td>-344.0</td>\n",
       "      <td>-341.0</td>\n",
       "      <td>-273.0</td>\n",
       "      <td>-247.0</td>\n",
       "      <td>-347.0</td>\n",
       "      <td>-328.0</td>\n",
       "      <td>NaN</td>\n",
       "      <td>NaN</td>\n",
       "      <td>NaN</td>\n",
       "      <td>NaN</td>\n",
       "      <td>NaN</td>\n",
       "      <td>NaN</td>\n",
       "      <td>-270.0</td>\n",
       "      <td>-263.0</td>\n",
       "      <td>-268.0</td>\n",
       "      <td>-256.0</td>\n",
       "      <td>-267.0</td>\n",
       "      <td>-274.0</td>\n",
       "    </tr>\n",
       "    <tr>\n",
       "      <th>4</th>\n",
       "      <td>POSITIVE</td>\n",
       "      <td>200.0</td>\n",
       "      <td>203.0</td>\n",
       "      <td>271.0</td>\n",
       "      <td>297.0</td>\n",
       "      <td>197.0</td>\n",
       "      <td>216.0</td>\n",
       "      <td>NaN</td>\n",
       "      <td>NaN</td>\n",
       "      <td>NaN</td>\n",
       "      <td>NaN</td>\n",
       "      <td>NaN</td>\n",
       "      <td>NaN</td>\n",
       "      <td>274.0</td>\n",
       "      <td>281.0</td>\n",
       "      <td>276.0</td>\n",
       "      <td>288.0</td>\n",
       "      <td>277.0</td>\n",
       "      <td>270.0</td>\n",
       "    </tr>\n",
       "    <tr>\n",
       "      <th>score</th>\n",
       "      <td>LABEL_2POSITIVE</td>\n",
       "      <td>-144.0</td>\n",
       "      <td>-138.0</td>\n",
       "      <td>-2.0</td>\n",
       "      <td>50.0</td>\n",
       "      <td>-150.0</td>\n",
       "      <td>-112.0</td>\n",
       "      <td>13.0</td>\n",
       "      <td>-11.0</td>\n",
       "      <td>-5.0</td>\n",
       "      <td>31.0</td>\n",
       "      <td>45.0</td>\n",
       "      <td>51.0</td>\n",
       "      <td>4.0</td>\n",
       "      <td>18.0</td>\n",
       "      <td>8.0</td>\n",
       "      <td>32.0</td>\n",
       "      <td>10.0</td>\n",
       "      <td>-4.0</td>\n",
       "    </tr>\n",
       "  </tbody>\n",
       "</table>\n",
       "</div>"
      ],
      "text/plain": [
       "            Unnamed: 0  distilbert_history  distilbert_history_aave  \\\n",
       "0                                      NaN                      NaN   \n",
       "1                                      NaN                      NaN   \n",
       "2              LABEL_2                 NaN                      NaN   \n",
       "3                                   -344.0                   -341.0   \n",
       "4             POSITIVE               200.0                    203.0   \n",
       "score  LABEL_2POSITIVE              -144.0                   -138.0   \n",
       "\n",
       "       distilbert_sae_gen  distilbert_aave_gen  distilbert_groundtruth  \\\n",
       "0                     NaN                  NaN                     NaN   \n",
       "1                     NaN                  NaN                     NaN   \n",
       "2                     NaN                  NaN                     NaN   \n",
       "3                  -273.0               -247.0                  -347.0   \n",
       "4                   271.0                297.0                   197.0   \n",
       "score                -2.0                 50.0                  -150.0   \n",
       "\n",
       "       distilbert_groundtruth_aave  roberta_base_history  \\\n",
       "0                              NaN                -154.0   \n",
       "1                              NaN                   0.0   \n",
       "2                              NaN                 167.0   \n",
       "3                           -328.0                   NaN   \n",
       "4                            216.0                   NaN   \n",
       "score                       -112.0                  13.0   \n",
       "\n",
       "       roberta_base_history_aave  roberta_base_sae_gen  roberta_base_aave_gen  \\\n",
       "0                         -180.0                -125.0                 -118.0   \n",
       "1                            0.0                   0.0                    0.0   \n",
       "2                          169.0                 120.0                  149.0   \n",
       "3                            NaN                   NaN                    NaN   \n",
       "4                            NaN                   NaN                    NaN   \n",
       "score                      -11.0                  -5.0                   31.0   \n",
       "\n",
       "       roberta_base_groundtruth  roberta_base_groundtruth_aave  \\\n",
       "0                         -91.0                          -92.0   \n",
       "1                           0.0                            0.0   \n",
       "2                         136.0                          143.0   \n",
       "3                           NaN                            NaN   \n",
       "4                           NaN                            NaN   \n",
       "score                      45.0                           51.0   \n",
       "\n",
       "       roberta_large_history  roberta_large_history_aave  \\\n",
       "0                        NaN                         NaN   \n",
       "1                        NaN                         NaN   \n",
       "2                        NaN                         NaN   \n",
       "3                     -270.0                      -263.0   \n",
       "4                      274.0                       281.0   \n",
       "score                    4.0                        18.0   \n",
       "\n",
       "       roberta_large_sae_gen  roberta_large_aave_gen  \\\n",
       "0                        NaN                     NaN   \n",
       "1                        NaN                     NaN   \n",
       "2                        NaN                     NaN   \n",
       "3                     -268.0                  -256.0   \n",
       "4                      276.0                   288.0   \n",
       "score                    8.0                    32.0   \n",
       "\n",
       "       roberta_large_groundtruth  roberta_large_groundtruth_aave  \n",
       "0                            NaN                             NaN  \n",
       "1                            NaN                             NaN  \n",
       "2                            NaN                             NaN  \n",
       "3                         -267.0                          -274.0  \n",
       "4                          277.0                           270.0  \n",
       "score                       10.0                            -4.0  "
      ]
     },
     "execution_count": 25,
     "metadata": {},
     "output_type": "execute_result"
    }
   ],
   "source": [
    "df = pd.read_csv('runs/17/stats/dialogpt_dailydialog/5fts_dialogpt_dailydialog.csv')\n",
    "df.iloc[3] = df.iloc[3] * -1\n",
    "df.iloc[0] = df.iloc[0] * -1\n",
    "df.iloc[1] = df.iloc[1] * 0\n",
    "df.loc['score'] = np.sum(df)\n",
    "\n",
    "df"
   ]
  }
 ],
 "metadata": {
  "accelerator": "GPU",
  "colab": {
   "authorship_tag": "ABX9TyPSTRPFzQtga7AJ8F3E10wW",
   "collapsed_sections": [],
   "name": "GPT-Neo.ipynb",
   "provenance": []
  },
  "interpreter": {
   "hash": "8ef2add580a4fc17ac33dfb1be25c14e53a8e110f2a6549830ae8d2dda65c178"
  },
  "kernelspec": {
   "display_name": "Python 3.9.7 64-bit ('Dialect_Prompts': conda)",
   "name": "python3"
  },
  "language_info": {
   "codemirror_mode": {
    "name": "ipython",
    "version": 3
   },
   "file_extension": ".py",
   "mimetype": "text/x-python",
   "name": "python",
   "nbconvert_exporter": "python",
   "pygments_lexer": "ipython3",
   "version": "3.9.7"
  }
 },
 "nbformat": 4,
 "nbformat_minor": 4
}

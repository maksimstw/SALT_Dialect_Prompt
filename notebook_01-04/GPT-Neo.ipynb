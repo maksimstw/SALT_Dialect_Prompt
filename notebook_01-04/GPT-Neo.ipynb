{
 "cells": [
  {
   "cell_type": "code",
   "execution_count": 1,
   "metadata": {
    "colab": {
     "base_uri": "https://localhost:8080/"
    },
    "executionInfo": {
     "elapsed": 211,
     "status": "ok",
     "timestamp": 1631203588106,
     "user": {
      "displayName": "Maksim STW",
      "photoUrl": "https://lh3.googleusercontent.com/a-/AOh14GhxlsxJPsP-vnUHqOGVOd2IwzlsoHIBvoM27xTB=s64",
      "userId": "15228803154242880172"
     },
     "user_tz": 240
    },
    "id": "MuYvPCNnQcc_",
    "outputId": "57a7b9ad-9f8f-4929-fcdd-3afeb22f58c5"
   },
   "outputs": [
    {
     "name": "stdout",
     "output_type": "stream",
     "text": [
      "Tue Sep 28 12:36:28 2021       \n",
      "+-----------------------------------------------------------------------------+\n",
      "| NVIDIA-SMI 472.12       Driver Version: 472.12       CUDA Version: 11.4     |\n",
      "|-------------------------------+----------------------+----------------------+\n",
      "| GPU  Name            TCC/WDDM | Bus-Id        Disp.A | Volatile Uncorr. ECC |\n",
      "| Fan  Temp  Perf  Pwr:Usage/Cap|         Memory-Usage | GPU-Util  Compute M. |\n",
      "|                               |                      |               MIG M. |\n",
      "|===============================+======================+======================|\n",
      "|   0  NVIDIA GeForce ... WDDM  | 00000000:01:00.0 Off |                  N/A |\n",
      "| N/A    0C    P5    24W /  N/A |    148MiB /  8192MiB |      0%      Default |\n",
      "|                               |                      |                  N/A |\n",
      "+-------------------------------+----------------------+----------------------+\n",
      "                                                                               \n",
      "+-----------------------------------------------------------------------------+\n",
      "| Processes:                                                                  |\n",
      "|  GPU   GI   CI        PID   Type   Process name                  GPU Memory |\n",
      "|        ID   ID                                                   Usage      |\n",
      "|=============================================================================|\n",
      "|    0   N/A  N/A     12140    C+G   ...nputApp\\TextInputHost.exe    N/A      |\n",
      "+-----------------------------------------------------------------------------+\n"
     ]
    }
   ],
   "source": [
    "!nvidia-smi"
   ]
  },
  {
   "cell_type": "code",
   "execution_count": null,
   "metadata": {
    "executionInfo": {
     "elapsed": 13832,
     "status": "ok",
     "timestamp": 1631206508416,
     "user": {
      "displayName": "Maksim STW",
      "photoUrl": "https://lh3.googleusercontent.com/a-/AOh14GhxlsxJPsP-vnUHqOGVOd2IwzlsoHIBvoM27xTB=s64",
      "userId": "15228803154242880172"
     },
     "user_tz": 240
    },
    "id": "4FgovcfCPFZZ"
   },
   "outputs": [],
   "source": [
    "import transformers\n",
    "from transformers import BertModel, BertTokenizer, AdamW, get_linear_schedule_with_warmup, pipeline, GPTNeoForCausalLM, GPT2Tokenizer\n",
    "import torch\n",
    "import numpy as np\n",
    "import pandas as pd\n",
    "import seaborn as sns\n",
    "import csv\n",
    "from pylab import rcParams\n",
    "import matplotlib.pyplot as plt\n",
    "from matplotlib import rc\n",
    "from sklearn.model_selection import train_test_split\n",
    "from sklearn.metrics import confusion_matrix, classification_report\n",
    "from collections import defaultdict\n",
    "from textwrap import wrap\n",
    "from torch import nn, optim\n",
    "from torch.utils.data import Dataset, DataLoader\n",
    "import tqdm.notebook as tq\n",
    "%matplotlib inline\n",
    "%config InlineBackend.figure_format='retina'\n",
    "sns.set(style='whitegrid', palette='muted', font_scale=1.2)\n",
    "HAPPY_COLORS_PALETTE = [\"#01BEFE\", \"#FFDD00\", \"#FF7D00\", \"#FF006D\", \"#ADFF02\", \"#8F00FF\"]\n",
    "sns.set_palette(sns.color_palette(HAPPY_COLORS_PALETTE))\n",
    "rcParams['figure.figsize'] = 12, 8\n",
    "RANDOM_SEED = 42\n",
    "np.random.seed(RANDOM_SEED)\n",
    "torch.manual_seed(RANDOM_SEED)\n",
    "device = torch.device(\"cuda:0\" if torch.cuda.is_available() else \"cpu\")\n",
    "transformers.logging.set_verbosity(transformers.logging.CRITICAL)"
   ]
  },
  {
   "cell_type": "code",
   "execution_count": 9,
   "metadata": {
    "colab": {
     "base_uri": "https://localhost:8080/",
     "height": 206
    },
    "executionInfo": {
     "elapsed": 82,
     "status": "ok",
     "timestamp": 1631206514886,
     "user": {
      "displayName": "Maksim STW",
      "photoUrl": "https://lh3.googleusercontent.com/a-/AOh14GhxlsxJPsP-vnUHqOGVOd2IwzlsoHIBvoM27xTB=s64",
      "userId": "15228803154242880172"
     },
     "user_tz": 240
    },
    "id": "r_YbGf1sUIGX",
    "outputId": "f9fd430f-2a97-4826-aa13-1adc7e0fdab9"
   },
   "outputs": [
    {
     "data": {
      "text/html": [
       "<div>\n",
       "<style scoped>\n",
       "    .dataframe tbody tr th:only-of-type {\n",
       "        vertical-align: middle;\n",
       "    }\n",
       "\n",
       "    .dataframe tbody tr th {\n",
       "        vertical-align: top;\n",
       "    }\n",
       "\n",
       "    .dataframe thead th {\n",
       "        text-align: right;\n",
       "    }\n",
       "</style>\n",
       "<table border=\"1\" class=\"dataframe\">\n",
       "  <thead>\n",
       "    <tr style=\"text-align: right;\">\n",
       "      <th></th>\n",
       "      <th>first_seg</th>\n",
       "      <th>second_seg</th>\n",
       "    </tr>\n",
       "  </thead>\n",
       "  <tbody>\n",
       "    <tr>\n",
       "      <th>0</th>\n",
       "      <td>Manti Te'o was having a relationship via telep...</td>\n",
       "      <td>to be female.</td>\n",
       "    </tr>\n",
       "    <tr>\n",
       "      <th>1</th>\n",
       "      <td>The little girl is not going to win because i ...</td>\n",
       "      <td>she needs to stop what she is doing</td>\n",
       "    </tr>\n",
       "    <tr>\n",
       "      <th>2</th>\n",
       "      <td>He is upstairs rights now and I'm down here ge...</td>\n",
       "      <td>to go down. Nite nite.</td>\n",
       "    </tr>\n",
       "    <tr>\n",
       "      <th>3</th>\n",
       "      <td>Shit, I am who I am. I'm done apologizing. I'm...</td>\n",
       "      <td>and if you don't like it, get out</td>\n",
       "    </tr>\n",
       "    <tr>\n",
       "      <th>4</th>\n",
       "      <td>It is very rare that I get what I want, but no...</td>\n",
       "      <td>losing it, no matter the cost</td>\n",
       "    </tr>\n",
       "  </tbody>\n",
       "</table>\n",
       "</div>"
      ],
      "text/plain": [
       "                                           first_seg  \\\n",
       "0  Manti Te'o was having a relationship via telep...   \n",
       "1  The little girl is not going to win because i ...   \n",
       "2  He is upstairs rights now and I'm down here ge...   \n",
       "3  Shit, I am who I am. I'm done apologizing. I'm...   \n",
       "4  It is very rare that I get what I want, but no...   \n",
       "\n",
       "                            second_seg  \n",
       "0                        to be female.  \n",
       "1  she needs to stop what she is doing  \n",
       "2               to go down. Nite nite.  \n",
       "3    and if you don't like it, get out  \n",
       "4        losing it, no matter the cost  "
      ]
     },
     "execution_count": 9,
     "metadata": {},
     "output_type": "execute_result"
    }
   ],
   "source": [
    "df = pd.read_csv(\"runs/03 EMNLP SAE-AAVE Pairs/sae_samples.tsv\", sep='\\t')\n",
    "df.head()"
   ]
  },
  {
   "cell_type": "code",
   "execution_count": 4,
   "metadata": {
    "colab": {
     "base_uri": "https://localhost:8080/"
    },
    "executionInfo": {
     "elapsed": 132,
     "status": "ok",
     "timestamp": 1631204256319,
     "user": {
      "displayName": "Maksim STW",
      "photoUrl": "https://lh3.googleusercontent.com/a-/AOh14GhxlsxJPsP-vnUHqOGVOd2IwzlsoHIBvoM27xTB=s64",
      "userId": "15228803154242880172"
     },
     "user_tz": 240
    },
    "id": "w-mIKiXMUT29",
    "outputId": "ecf6c999-e05e-4d6f-bd17-ca6cc3aa5b2e"
   },
   "outputs": [
    {
     "data": {
      "text/plain": [
       "<bound method DataFrame.info of                                               first_seg  \\\n",
       "0     Manti Te'o was having a relationship via telep...   \n",
       "1     The little girl is not going to win because i ...   \n",
       "2     He is upstairs rights now and I'm down here ge...   \n",
       "3     Shit, I am who I am. I'm done apologizing. I'm...   \n",
       "4     It is very rare that I get what I want, but no...   \n",
       "...                                                 ...   \n",
       "2014  At least I'm happy with knowing I'm always coo...   \n",
       "2015  I love when you ad-lib, if that's what you cal...   \n",
       "2016  In search of a nice place to do karaoke or dis...   \n",
       "2017  I am looking for an establishment that has a \"...   \n",
       "2018  I thought I hung up the phone when I went into...   \n",
       "\n",
       "                                             second_seg  \n",
       "0                                         to be female.  \n",
       "1                   she needs to stop what she is doing  \n",
       "2                                to go down. Nite nite.  \n",
       "3                     and if you don't like it, get out  \n",
       "4                         losing it, no matter the cost  \n",
       "...                                                 ...  \n",
       "2014                     kind of kidding but not really  \n",
       "2015                           so it could be different  \n",
       "2016           older). Contact Reggie Kelly 410-645-049  \n",
       "2017  SOUTHERN SOUL/BLUES; NO HIP-HOP! CALL (410) 64...  \n",
       "2018                       on the phone. How surprising  \n",
       "\n",
       "[2019 rows x 2 columns]>"
      ]
     },
     "execution_count": 4,
     "metadata": {},
     "output_type": "execute_result"
    }
   ],
   "source": [
    "df.shape\n",
    "df.info"
   ]
  },
  {
   "cell_type": "code",
   "execution_count": 9,
   "metadata": {
    "colab": {
     "base_uri": "https://localhost:8080/",
     "height": 561
    },
    "executionInfo": {
     "elapsed": 490,
     "status": "ok",
     "timestamp": 1631204259307,
     "user": {
      "displayName": "Maksim STW",
      "photoUrl": "https://lh3.googleusercontent.com/a-/AOh14GhxlsxJPsP-vnUHqOGVOd2IwzlsoHIBvoM27xTB=s64",
      "userId": "15228803154242880172"
     },
     "user_tz": 240
    },
    "id": "cBGFOEsgUYYq",
    "outputId": "48461153-36b8-450e-e48d-3b2418a84634"
   },
   "outputs": [],
   "source": [
    "# sns.countplot(df.label)\n",
    "# plt.xlabel('label (1: AAVE; 0: SAE)');"
   ]
  },
  {
   "cell_type": "code",
   "execution_count": 5,
   "metadata": {
    "id": "kRaQz7XmWhm3"
   },
   "outputs": [],
   "source": [
    "PRE_TRAINED_MODEL_NAME = 'EleutherAI/gpt-neo-1.3B'\n",
    "tokenizer = GPT2Tokenizer.from_pretrained(PRE_TRAINED_MODEL_NAME)\n",
    "model = GPTNeoForCausalLM.from_pretrained(PRE_TRAINED_MODEL_NAME)"
   ]
  },
  {
   "cell_type": "code",
   "execution_count": 6,
   "metadata": {
    "colab": {
     "base_uri": "https://localhost:8080/",
     "height": 561
    },
    "executionInfo": {
     "elapsed": 1551,
     "status": "ok",
     "timestamp": 1631204329570,
     "user": {
      "displayName": "Maksim STW",
      "photoUrl": "https://lh3.googleusercontent.com/a-/AOh14GhxlsxJPsP-vnUHqOGVOd2IwzlsoHIBvoM27xTB=s64",
      "userId": "15228803154242880172"
     },
     "user_tz": 240
    },
    "id": "IfA53L79UWW7",
    "outputId": "4aff4833-8c5b-4e91-8449-e39b847fb91b"
   },
   "outputs": [
    {
     "name": "stderr",
     "output_type": "stream",
     "text": [
      "C:\\Users\\stwan\\Miniconda3\\envs\\GPT_Dialect\\lib\\site-packages\\seaborn\\distributions.py:2619: FutureWarning: `distplot` is a deprecated function and will be removed in a future version. Please adapt your code to use either `displot` (a figure-level function with similar flexibility) or `histplot` (an axes-level function for histograms).\n",
      "  warnings.warn(msg, FutureWarning)\n"
     ]
    },
    {
     "data": {
      "image/png": "[encoded data removed]",
      "text/plain": [
       "<Figure size 864x576 with 1 Axes>"
      ]
     },
     "metadata": {
      "image/png": {
       "height": 487,
       "width": 736
      }
     },
     "output_type": "display_data"
    }
   ],
   "source": [
    "token_lens = []\n",
    "for txt in df.first_seg:\n",
    "    tokens = tokenizer.encode(txt, max_length=256)\n",
    "    token_lens.append(len(tokens))\n",
    "\n",
    "sns.distplot(token_lens)\n",
    "plt.xlim([0, 64]);\n",
    "plt.xlabel('Token count');"
   ]
  },
  {
   "cell_type": "code",
   "execution_count": 10,
   "metadata": {
    "colab": {
     "base_uri": "https://localhost:8080/",
     "height": 253
    },
    "executionInfo": {
     "elapsed": 73,
     "status": "error",
     "timestamp": 1631206043271,
     "user": {
      "displayName": "Maksim STW",
      "photoUrl": "https://lh3.googleusercontent.com/a-/AOh14GhxlsxJPsP-vnUHqOGVOd2IwzlsoHIBvoM27xTB=s64",
      "userId": "15228803154242880172"
     },
     "user_tz": 240
    },
    "id": "rDHnJ3rGPcwK",
    "outputId": "0c3cf5eb-2950-4603-9942-3c31a434fcb5"
   },
   "outputs": [
    {
     "data": {
      "application/vnd.jupyter.widget-view+json": {
       "model_id": "442e6db69eb1442b8a598b1e285cd212",
       "version_major": 2,
       "version_minor": 0
      },
      "text/plain": [
       "  0%|          | 0/2019 [00:00<?, ?it/s]"
      ]
     },
     "metadata": {},
     "output_type": "display_data"
    }
   ],
   "source": [
    "model.to(\"cuda:0\")\n",
    "with open('runs/03 EMNLP SAE-AAVE Pairs/sae_gen_txt.csv', 'a', encoding=\"utf-8\") as f:\n",
    "    writer = csv.writer(f)\n",
    "    for i, txt in enumerate(tq.tqdm(df.first_seg)):\n",
    "        input_ids = tokenizer(txt, return_tensors=\"pt\").input_ids.cuda()\n",
    "        gen_tokens = model.generate(input_ids, do_sample=True, max_length=(5 + input_ids.shape[1]))\n",
    "        gen_txt = tokenizer.batch_decode(gen_tokens[:, -5:])\n",
    "        writer.writerow([i, gen_txt])"
   ]
  },
  {
   "cell_type": "code",
   "execution_count": null,
   "metadata": {
    "id": "_i_EBTfCTQNb"
   },
   "outputs": [],
   "source": []
  }
 ],
 "metadata": {
  "accelerator": "GPU",
  "colab": {
   "authorship_tag": "ABX9TyPSTRPFzQtga7AJ8F3E10wW",
   "collapsed_sections": [],
   "name": "GPT-Neo.ipynb",
   "provenance": []
  },
  "kernelspec": {
   "display_name": "Python 3 (ipykernel)",
   "language": "python",
   "name": "python3"
  },
  "language_info": {
   "codemirror_mode": {
    "name": "ipython",
    "version": 3
   },
   "file_extension": ".py",
   "mimetype": "text/x-python",
   "name": "python",
   "nbconvert_exporter": "python",
   "pygments_lexer": "ipython3",
   "version": "3.9.7"
  }
 },
 "nbformat": 4,
 "nbformat_minor": 4
}
